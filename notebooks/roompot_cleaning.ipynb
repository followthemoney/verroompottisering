{
 "cells": [
  {
   "cell_type": "code",
   "execution_count": 17,
   "id": "7a2fe986",
   "metadata": {},
   "outputs": [],
   "source": [
    "import pandas as pd"
   ]
  },
  {
   "cell_type": "code",
   "execution_count": 18,
   "id": "34fb1ffb",
   "metadata": {},
   "outputs": [],
   "source": [
    "PATH = '/Users/dt/Documents/Projecten/bouwput/data/'"
   ]
  },
  {
   "cell_type": "code",
   "execution_count": 19,
   "id": "c6926c2f",
   "metadata": {
    "scrolled": true
   },
   "outputs": [],
   "source": [
    "roompot = pd.read_csv(PATH + 'roompoturls.csv', sep=';', error_bad_lines=False, encoding='ISO-8859-1')"
   ]
  },
  {
   "cell_type": "code",
   "execution_count": 20,
   "id": "9e822851",
   "metadata": {},
   "outputs": [],
   "source": [
    "roompot['naam'] = roompot['Adres'].str.split(r'\\r\\n').str[0]\n",
    "roompot['adres'] = roompot['Adres'].str.split(r'\\r\\n').str[1]\n",
    "roompot['huisnummer'] = roompot['adres'].str.extract(r'(\\d+)')\n",
    "roompot['plaats'] = roompot['Adres'].str.split(r'\\r\\n').str[2]\n",
    "roompot['postcode'] = roompot['plaats'].str.extract(r'([0-9]{4}\\s[A-Z]{2})')"
   ]
  },
  {
   "cell_type": "code",
   "execution_count": 21,
   "id": "4ed52e6d",
   "metadata": {},
   "outputs": [],
   "source": [
    "roompot = roompot[['naam', 'adres', 'plaats', 'postcode', 'huisnummer']]"
   ]
  },
  {
   "cell_type": "code",
   "execution_count": 22,
   "id": "173aea0c",
   "metadata": {},
   "outputs": [
    {
     "data": {
      "text/html": [
       "<div>\n",
       "<style scoped>\n",
       "    .dataframe tbody tr th:only-of-type {\n",
       "        vertical-align: middle;\n",
       "    }\n",
       "\n",
       "    .dataframe tbody tr th {\n",
       "        vertical-align: top;\n",
       "    }\n",
       "\n",
       "    .dataframe thead th {\n",
       "        text-align: right;\n",
       "    }\n",
       "</style>\n",
       "<table border=\"1\" class=\"dataframe\">\n",
       "  <thead>\n",
       "    <tr style=\"text-align: right;\">\n",
       "      <th></th>\n",
       "      <th>naam</th>\n",
       "      <th>adres</th>\n",
       "      <th>plaats</th>\n",
       "      <th>postcode</th>\n",
       "      <th>huisnummer</th>\n",
       "    </tr>\n",
       "  </thead>\n",
       "  <tbody>\n",
       "    <tr>\n",
       "      <th>0</th>\n",
       "      <td>Noordzee Résidence Cadzand-Bad</td>\n",
       "      <td>Cavelot 1</td>\n",
       "      <td>4506 GD Cadzand-Bad</td>\n",
       "      <td>4506 GD</td>\n",
       "      <td>1</td>\n",
       "    </tr>\n",
       "    <tr>\n",
       "      <th>1</th>\n",
       "      <td>LARGO Beach Villa's Hoek van Holland</td>\n",
       "      <td>Zeekant 125</td>\n",
       "      <td>3151 HW Hoek Van Holland</td>\n",
       "      <td>3151 HW</td>\n",
       "      <td>125</td>\n",
       "    </tr>\n",
       "    <tr>\n",
       "      <th>2</th>\n",
       "      <td>Duinresort Dunimar</td>\n",
       "      <td>Ruigenhoekerweg 5</td>\n",
       "      <td>2211 ZG Noordwijkerhout</td>\n",
       "      <td>2211 ZG</td>\n",
       "      <td>5</td>\n",
       "    </tr>\n",
       "    <tr>\n",
       "      <th>3</th>\n",
       "      <td>Beach Resort Nieuwvliet-Bad</td>\n",
       "      <td>Zeedijk 24</td>\n",
       "      <td>4504 PN Nieuwvliet-Bad</td>\n",
       "      <td>4504 PN</td>\n",
       "      <td>24</td>\n",
       "    </tr>\n",
       "    <tr>\n",
       "      <th>4</th>\n",
       "      <td>Hof Domburg</td>\n",
       "      <td>Schelpweg 7</td>\n",
       "      <td>4357 RD Domburg</td>\n",
       "      <td>4357 RD</td>\n",
       "      <td>7</td>\n",
       "    </tr>\n",
       "    <tr>\n",
       "      <th>...</th>\n",
       "      <td>...</td>\n",
       "      <td>...</td>\n",
       "      <td>...</td>\n",
       "      <td>...</td>\n",
       "      <td>...</td>\n",
       "    </tr>\n",
       "    <tr>\n",
       "      <th>124</th>\n",
       "      <td>Bungalowpark Herperduin</td>\n",
       "      <td>Schaijkseweg 12</td>\n",
       "      <td>5373 KL Herpen</td>\n",
       "      <td>5373 KL</td>\n",
       "      <td>12</td>\n",
       "    </tr>\n",
       "    <tr>\n",
       "      <th>125</th>\n",
       "      <td>Villapark Akenveen</td>\n",
       "      <td>Zuidlaarderweg 37</td>\n",
       "      <td>9482 TV Tynaarloo</td>\n",
       "      <td>9482 TV</td>\n",
       "      <td>37</td>\n",
       "    </tr>\n",
       "    <tr>\n",
       "      <th>126</th>\n",
       "      <td>Villapark Schildmeer</td>\n",
       "      <td>Roegeweg 1</td>\n",
       "      <td>9629 PA Steendam</td>\n",
       "      <td>9629 PA</td>\n",
       "      <td>1</td>\n",
       "    </tr>\n",
       "    <tr>\n",
       "      <th>127</th>\n",
       "      <td>Vakantiepark It Wiid</td>\n",
       "      <td>Koaidijk 8</td>\n",
       "      <td>9264 TP Eernewoude</td>\n",
       "      <td>9264 TP</td>\n",
       "      <td>8</td>\n",
       "    </tr>\n",
       "    <tr>\n",
       "      <th>128</th>\n",
       "      <td>Buitenplaats In Den Olden Bongerd</td>\n",
       "      <td>Breukinkweg 3</td>\n",
       "      <td>7109 BX Winterswijk</td>\n",
       "      <td>7109 BX</td>\n",
       "      <td>3</td>\n",
       "    </tr>\n",
       "  </tbody>\n",
       "</table>\n",
       "<p>129 rows × 5 columns</p>\n",
       "</div>"
      ],
      "text/plain": [
       "                                     naam              adres  \\\n",
       "0          Noordzee Résidence Cadzand-Bad          Cavelot 1   \n",
       "1    LARGO Beach Villa's Hoek van Holland        Zeekant 125   \n",
       "2                      Duinresort Dunimar  Ruigenhoekerweg 5   \n",
       "3             Beach Resort Nieuwvliet-Bad         Zeedijk 24   \n",
       "4                             Hof Domburg        Schelpweg 7   \n",
       "..                                    ...                ...   \n",
       "124               Bungalowpark Herperduin    Schaijkseweg 12   \n",
       "125                    Villapark Akenveen  Zuidlaarderweg 37   \n",
       "126                  Villapark Schildmeer         Roegeweg 1   \n",
       "127                  Vakantiepark It Wiid         Koaidijk 8   \n",
       "128     Buitenplaats In Den Olden Bongerd      Breukinkweg 3   \n",
       "\n",
       "                       plaats postcode huisnummer  \n",
       "0         4506 GD Cadzand-Bad  4506 GD          1  \n",
       "1    3151 HW Hoek Van Holland  3151 HW        125  \n",
       "2     2211 ZG Noordwijkerhout  2211 ZG          5  \n",
       "3      4504 PN Nieuwvliet-Bad  4504 PN         24  \n",
       "4             4357 RD Domburg  4357 RD          7  \n",
       "..                        ...      ...        ...  \n",
       "124            5373 KL Herpen  5373 KL         12  \n",
       "125         9482 TV Tynaarloo  9482 TV         37  \n",
       "126          9629 PA Steendam  9629 PA          1  \n",
       "127        9264 TP Eernewoude  9264 TP          8  \n",
       "128       7109 BX Winterswijk  7109 BX          3  \n",
       "\n",
       "[129 rows x 5 columns]"
      ]
     },
     "execution_count": 22,
     "metadata": {},
     "output_type": "execute_result"
    }
   ],
   "source": [
    "roompot"
   ]
  },
  {
   "cell_type": "code",
   "execution_count": 23,
   "id": "adc1a64f",
   "metadata": {},
   "outputs": [
    {
     "data": {
      "text/plain": [
       "123"
      ]
     },
     "execution_count": 23,
     "metadata": {},
     "output_type": "execute_result"
    }
   ],
   "source": [
    "roompot = roompot.drop_duplicates(subset=['adres'])\n",
    "len(roompot)"
   ]
  },
  {
   "cell_type": "code",
   "execution_count": 24,
   "id": "a69b4d7b",
   "metadata": {},
   "outputs": [],
   "source": [
    "roompot.to_csv(PATH + 'roompot_clean.csv', index=False)"
   ]
  },
  {
   "cell_type": "code",
   "execution_count": null,
   "id": "96c06f85",
   "metadata": {},
   "outputs": [],
   "source": []
  }
 ],
 "metadata": {
  "kernelspec": {
   "display_name": "bouwput",
   "language": "python",
   "name": "bouwput"
  },
  "language_info": {
   "codemirror_mode": {
    "name": "ipython",
    "version": 3
   },
   "file_extension": ".py",
   "mimetype": "text/x-python",
   "name": "python",
   "nbconvert_exporter": "python",
   "pygments_lexer": "ipython3",
   "version": "3.8.10"
  }
 },
 "nbformat": 4,
 "nbformat_minor": 5
}
